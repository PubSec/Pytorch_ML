{
 "cells": [
  {
   "cell_type": "markdown",
   "metadata": {},
   "source": [
    "### 1. What are 3 areas in industry where computer vision is currently being used?"
   ]
  },
  {
   "cell_type": "markdown",
   "metadata": {},
   "source": [
    "I. Defects detection on assembly line <br>\n",
    "II. Self-driving vehicles <br>\n",
    "III. Face recognition "
   ]
  },
  {
   "cell_type": "markdown",
   "metadata": {
    "vscode": {
     "languageId": "plaintext"
    }
   },
   "source": [
    "### 2. Search \"what is overfitting in machine learning\" and write down a sentence about what you find."
   ]
  },
  {
   "cell_type": "markdown",
   "metadata": {
    "vscode": {
     "languageId": "plaintext"
    }
   },
   "source": [
    "Overfitting occurs when a machine learning model is trained on the training data repeatedly. Over time the model will perform very well on the training data, but poorly on the test data. "
   ]
  },
  {
   "cell_type": "markdown",
   "metadata": {
    "vscode": {
     "languageId": "plaintext"
    }
   },
   "source": [
    "### 3. Search \"ways to prevent overfitting in machine learning\", write down 3 of the things you find and a sentence about each. Note: there are lots of these, so don't worry too much about all of them, just pick 3 and start with those."
   ]
  },
  {
   "cell_type": "markdown",
   "metadata": {},
   "source": [
    "I. Hold-out: Splitting the whole dataset to training and testing datasets. <br>\n",
    "II. Data Augmentation: Creates new data from the available data. <br>\n",
    "III. Regularization:  This makes the model learn broader patterns rather then memorizing the data."
   ]
  },
  {
   "cell_type": "markdown",
   "metadata": {},
   "source": [
    "### 4. Spend 20-minutes reading and clicking through the <a href=\"https://poloclub.github.io/cnn-explainer/\"> CNN Explainer website </a>.\n",
    "    * Upload your own example image using the \"upload\" button and see what happens in each layer of a CNN as your image passes through it."
   ]
  },
  {
   "cell_type": "markdown",
   "metadata": {},
   "source": [
    "### 5. Load the <a href=\"https://pytorch.org/vision/stable/generated/torchvision.datasets.MNIST.html#torchvision.datasets.MNIST\">torchvision.datasets.MNIST()</a> train and test datasets."
   ]
  },
  {
   "cell_type": "code",
   "execution_count": 200,
   "metadata": {},
   "outputs": [],
   "source": [
    "import numpy as np\n",
    "import random\n",
    "import torch\n",
    "from torch import nn\n",
    "import torchvision\n",
    "from torchvision import datasets\n",
    "from torchvision.transforms import ToTensor\n",
    "import matplotlib.pyplot as plt\n",
    "from random import randrange\n",
    "from torch.utils.data import DataLoader\n",
    "from tqdm.auto import tqdm\n",
    "from torchmetrics import ConfusionMatrix\n",
    "from mlxtend.plotting import plot_confusion_matrix\n"
   ]
  },
  {
   "cell_type": "code",
   "execution_count": 2,
   "metadata": {},
   "outputs": [
    {
     "name": "stderr",
     "output_type": "stream",
     "text": [
      "/home/archian/Development/Projects/Python/Torch/env/lib/python3.12/site-packages/torch/cuda/__init__.py:129: UserWarning: CUDA initialization: Unexpected error from cudaGetDeviceCount(). Did you run some cuda functions before calling NumCudaDevices() that might have already set an error? Error 803: system has unsupported display driver / cuda driver combination (Triggered internally at ../c10/cuda/CUDAFunctions.cpp:108.)\n",
      "  return torch._C._cuda_getDeviceCount() > 0\n"
     ]
    },
    {
     "data": {
      "text/plain": [
       "'cpu'"
      ]
     },
     "execution_count": 2,
     "metadata": {},
     "output_type": "execute_result"
    }
   ],
   "source": [
    "device = \"cuda\" if torch.cuda.is_available() else \"cpu\"\n",
    "device"
   ]
  },
  {
   "cell_type": "code",
   "execution_count": 3,
   "metadata": {},
   "outputs": [],
   "source": [
    "train_data = datasets.MNIST(root='data',train=True,download=True,transform=ToTensor())\n",
    "test_data = datasets.MNIST(root='data',train=False,download=True,transform=ToTensor())"
   ]
  },
  {
   "cell_type": "markdown",
   "metadata": {},
   "source": [
    "### 6. Visualize at least 5 different samples of the MNIST training dataset."
   ]
  },
  {
   "cell_type": "code",
   "execution_count": 4,
   "metadata": {},
   "outputs": [],
   "source": [
    "class_name =  train_data.classes"
   ]
  },
  {
   "cell_type": "code",
   "execution_count": 5,
   "metadata": {},
   "outputs": [
    {
     "data": {
      "image/png": "[encoded data removed]",
      "text/plain": [
       "<Figure size 900x900 with 5 Axes>"
      ]
     },
     "metadata": {},
     "output_type": "display_data"
    }
   ],
   "source": [
    "fig = plt.figure(figsize=(9,9))\n",
    "row,colm = 1,5\n",
    "for i in range(1,row*colm+1):\n",
    "    random_index = torch.randint(1,len(train_data),size=[1]).item()\n",
    "    image,label = train_data[random_index]\n",
    "    fig.add_subplot(row,colm,i)\n",
    "    plt.title(class_name[label])\n",
    "    plt.axis(False)\n",
    "    plt.imshow(image.squeeze(),cmap=\"gray\")"
   ]
  },
  {
   "cell_type": "markdown",
   "metadata": {},
   "source": [
    "### 7. Turn the MNIST train and test datasets into dataloaders using torch.utils.data.DataLoader, set the batch_size=32."
   ]
  },
  {
   "cell_type": "code",
   "execution_count": 6,
   "metadata": {},
   "outputs": [],
   "source": [
    "train_dataloader =  DataLoader(dataset=train_data,batch_size=32,shuffle=True)\n",
    "test_dataloader = DataLoader(dataset=test_data,batch_size=32)   \n"
   ]
  },
  {
   "cell_type": "markdown",
   "metadata": {},
   "source": [
    "### 8. Recreate model_2 used in this notebook (the same model from the <a href='https://poloclub.github.io/cnn-explainer/'>CNN Explainer website</a>, also known as TinyVGG) capable of fitting on the MNIST dataset."
   ]
  },
  {
   "cell_type": "code",
   "execution_count": 7,
   "metadata": {},
   "outputs": [],
   "source": [
    "class MNISTModel(nn.Module):\n",
    "    def __init__(self,input_shape,output_shape,hidden_units):\n",
    "        super().__init__()\n",
    "        self.block_1= nn.Sequential(\n",
    "            nn.Conv2d(in_channels=input_shape,out_channels=hidden_units,kernel_size=3,padding=1,stride=1),\n",
    "            nn.ReLU(),\n",
    "            nn.Conv2d(in_channels=hidden_units,out_channels=hidden_units,kernel_size=3,padding=1,stride=1),\n",
    "            nn.ReLU(),\n",
    "            nn.MaxPool2d(kernel_size=2)\n",
    "        )\n",
    "        self.block_2 = nn.Sequential(\n",
    "            nn.Conv2d(in_channels=hidden_units,out_channels=hidden_units,kernel_size=3,padding=1,stride=1),\n",
    "            nn.ReLU(),\n",
    "            nn.Conv2d(in_channels=hidden_units,out_channels=hidden_units,kernel_size=3,padding=1,stride=1),\n",
    "            nn.ReLU(),\n",
    "            nn.MaxPool2d(kernel_size=2)\n",
    "        )\n",
    "        self.linear_layer = nn.Sequential(\n",
    "            nn.Flatten(),\n",
    "            nn.Linear(in_features=hidden_units*7*7,out_features=output_shape)\n",
    "        )\n",
    "        \n",
    "    def forward(self,x):\n",
    "        x = self.block_1(x)\n",
    "        x = self.block_2(x)\n",
    "        x = self.linear_layer(x)\n",
    "        return x"
   ]
  },
  {
   "cell_type": "markdown",
   "metadata": {},
   "source": [
    "### 9. Train the model you built in exercise 8. on CPU and GPU and see how long it takes on each."
   ]
  },
  {
   "cell_type": "code",
   "execution_count": 99,
   "metadata": {},
   "outputs": [
    {
     "data": {
      "text/plain": [
       "device(type='cpu')"
      ]
     },
     "execution_count": 99,
     "metadata": {},
     "output_type": "execute_result"
    }
   ],
   "source": [
    "model_0 = MNISTModel(input_shape=1,output_shape=len(class_name),hidden_units=10)\n",
    "next(model_0.parameters()).device"
   ]
  },
  {
   "cell_type": "code",
   "execution_count": 100,
   "metadata": {},
   "outputs": [],
   "source": [
    "loss_fn = nn.CrossEntropyLoss()\n",
    "optimizer = torch.optim.SGD(params=model_0.parameters(),lr=0.1)"
   ]
  },
  {
   "cell_type": "code",
   "execution_count": 101,
   "metadata": {},
   "outputs": [
    {
     "name": "stderr",
     "output_type": "stream",
     "text": [
      "  0%|          | 0/3 [00:00<?, ?it/s]"
     ]
    },
    {
     "name": "stdout",
     "output_type": "stream",
     "text": [
      "---Epoch: 0---\n"
     ]
    },
    {
     "name": "stderr",
     "output_type": "stream",
     "text": [
      " 33%|███▎      | 1/3 [01:12<02:24, 72.44s/it]"
     ]
    },
    {
     "name": "stdout",
     "output_type": "stream",
     "text": [
      "Loss: 0.281 | Test loss: 0.082\n",
      "---Epoch: 1---\n"
     ]
    },
    {
     "name": "stderr",
     "output_type": "stream",
     "text": [
      " 67%|██████▋   | 2/3 [02:11<01:04, 64.79s/it]"
     ]
    },
    {
     "name": "stdout",
     "output_type": "stream",
     "text": [
      "Loss: 0.067 | Test loss: 0.057\n",
      "---Epoch: 2---\n"
     ]
    },
    {
     "name": "stderr",
     "output_type": "stream",
     "text": [
      "100%|██████████| 3/3 [03:22<00:00, 67.65s/it]"
     ]
    },
    {
     "name": "stdout",
     "output_type": "stream",
     "text": [
      "Loss: 0.053 | Test loss: 0.056\n",
      "CPU times: user 5min 52s, sys: 1.9 s, total: 5min 53s\n",
      "Wall time: 3min 22s\n"
     ]
    },
    {
     "name": "stderr",
     "output_type": "stream",
     "text": [
      "\n"
     ]
    }
   ],
   "source": [
    "%%time\n",
    "epochs = 3\n",
    "\n",
    "for epoch in tqdm(range(epochs)):\n",
    "    print(f\"---Epoch: {epoch}---\")\n",
    "    train_loss_cpu = 0\n",
    "    for batch,(X_cpu,y_cpu) in enumerate(train_dataloader):\n",
    "        model_0.train()\n",
    "        # Forward Pass\n",
    "        y_pred_cpu = model_0(X_cpu)\n",
    "        # Calculate the loss\n",
    "        loss_cpu = loss_fn(y_pred_cpu,y_cpu)\n",
    "        train_loss_cpu += loss_cpu \n",
    "        # Optimizer zero grad\n",
    "        optimizer.zero_grad()\n",
    "        # loss backwards\n",
    "        loss_cpu.backward()\n",
    "        # Step the optimizer\n",
    "        optimizer.step()\n",
    "\n",
    "\n",
    "    train_loss_cpu /= len(train_dataloader)\n",
    "    # Test the model\n",
    "    test_loss_cpu = 0\n",
    "    model_0.eval()\n",
    "    with torch.inference_mode():\n",
    "        for batch,(X_test_cpu,y_test_cpu) in enumerate(test_dataloader):\n",
    "            test_pred_cpu = model_0(X_test_cpu)\n",
    "            # Calculate the loss\n",
    "            test_loss_cpu += loss_fn(test_pred_cpu,y_test_cpu) \n",
    "                \n",
    "\n",
    "        test_loss_cpu /= len(test_dataloader)\n",
    "    print(f\"Loss: {train_loss_cpu:.3f} | Test loss: {test_loss_cpu:.3f}\")\n",
    "    "
   ]
  },
  {
   "cell_type": "code",
   "execution_count": 219,
   "metadata": {},
   "outputs": [],
   "source": [
    "### Currently, my nvidia driver is causing an error.\n",
    "# %%time\n",
    "\n",
    "\n",
    "# # Model on GPU\n",
    "# model_0_gpu = MNISTModel(input_shape=1,hidden_units=10,output_shape=10).to(device)\n",
    "\n",
    "\n",
    "# # Training loop\n",
    "# epochs = 3\n",
    "# for epoch in tqdm(range(epochs)):\n",
    "#   print(f\"---Epoch: {epoch}---\")\n",
    "#   train_loss_gpu = 0\n",
    "#   model_0_gpu.train()\n",
    "#   for batch, (X_gpu, y_gpu) in enumerate(train_dataloader):\n",
    "#     # Put data on target device\n",
    "#     X_gpu, y_gpu = X_gpu.to(device), y_gpu.to(device)\n",
    "\n",
    "#     # Forward pass\n",
    "#     y_pred_gpu = model_0_gpu(X_gpu)\n",
    "\n",
    "#     # Calculate the loss\n",
    "#     loss_gpu = loss_fn(y_pred_gpu, y_gpu)\n",
    "#     train_loss_gpu += loss_gpu\n",
    "\n",
    "#     # Optimizer zero grad\n",
    "#     optimizer.zero_grad()\n",
    "\n",
    "#     # Loss backwards\n",
    "#     loss_gpu.backward()\n",
    "\n",
    "#     # Step the optimizer\n",
    "#     optimizer.step()\n",
    "  \n",
    "#   train_loss_gpu /= len(train_dataloader)\n",
    "\n",
    "#   # Test the model\n",
    "#   test_loss_gpu = 0\n",
    "#   model_0_gpu.eval()\n",
    "#   with torch.inference_mode():\n",
    "#     for X_test_gpu, y_test_gpu in test_dataloader:\n",
    "#       # Make sure test data on target device\n",
    "#       X_test_gpu, y_test_gpu = X_test_gpu.to(device), y_test_gpu.to(device)\n",
    "      \n",
    "#       test_pred_gpu = model_0_gpu(X_test_gpu)\n",
    "#       test_loss_gpu += loss_fn(test_pred_gpu, y_test_gpu)\n",
    "\n",
    "#     # Adjust test loss total for number of batches\n",
    "#     test_loss_gpu /= len(test_dataloader)\n",
    "  \n",
    "#   # Print out what's happening\n",
    "#   print(f\"Loss: {train_loss_gpu:.2f} | Test loss: {test_loss_gpu:.2f}\")"
   ]
  },
  {
   "cell_type": "markdown",
   "metadata": {},
   "source": [
    "### 10.Make predictions using your trained model and visualize at least 5 of them comparing the prediction to the target label."
   ]
  },
  {
   "cell_type": "code",
   "execution_count": 212,
   "metadata": {},
   "outputs": [
    {
     "data": {
      "image/png": "[encoded data removed]",
      "text/plain": [
       "<Figure size 640x480 with 1 Axes>"
      ]
     },
     "metadata": {},
     "output_type": "display_data"
    }
   ],
   "source": [
    "test_image_samples, true_label = test_dataloader.dataset.data,test_dataloader.dataset.targets\n",
    "plt.imshow(test_image_samples[1000],cmap=\"gray\")\n",
    "plt.title(class_name[true_label[1000]])\n",
    "plt.axis(False)\n",
    "plt.show()"
   ]
  },
  {
   "cell_type": "code",
   "execution_count": 217,
   "metadata": {},
   "outputs": [
    {
     "data": {
      "image/png": "[encoded data removed]",
      "text/plain": [
       "<Figure size 1500x1500 with 5 Axes>"
      ]
     },
     "metadata": {},
     "output_type": "display_data"
    }
   ],
   "source": [
    "# Sample Test\n",
    "pred_fig = plt.figure(figsize=(15,15))\n",
    "rows,colms = 1,5\n",
    "for i in range(1,rows*colms+1):\n",
    "    random_index = torch.randint(1,len(test_data),size=[1]).item()\n",
    "    plot_test_image, plot_test_label = test_data[random_index]\n",
    "    plot_test_image = plot_test_image.to(device)\n",
    "    model_0.eval()\n",
    "    with torch.inference_mode():\n",
    "        y_logits = model_0(plot_test_image.unsqueeze(0))\n",
    "        y_pred = torch.softmax(y_logits,dim=1).argmax(dim=1)\n",
    "    pred_fig.add_subplot(rows,colms,i)\n",
    "    if y_pred == plot_test_label:\n",
    "        plt.title(f\"True: {class_name[plot_test_label]},Pred:{class_name[y_pred]}\", c=\"g\")\n",
    "    else:\n",
    "        plt.title(f\"True: {class_name[plot_test_label]},Pred:{class_name[y_pred]}\", c=\"r\")\n",
    "    plt.axis(False)\n",
    "    plt.imshow(plot_test_image.squeeze().to('cpu'),cmap=\"gray\")"
   ]
  },
  {
   "cell_type": "code",
   "execution_count": 105,
   "metadata": {},
   "outputs": [
    {
     "name": "stderr",
     "output_type": "stream",
     "text": [
      "Making prediction on the whole test data: 100%|██████████| 313/313 [00:05<00:00, 55.35it/s]\n"
     ]
    },
    {
     "data": {
      "text/plain": [
       "tensor([7, 2, 1,  ..., 4, 5, 6])"
      ]
     },
     "execution_count": 105,
     "metadata": {},
     "output_type": "execute_result"
    }
   ],
   "source": [
    "# Whole Test\n",
    "y_whole_pred = []\n",
    "model_0.eval()\n",
    "\n",
    "for X,y in tqdm(test_dataloader,desc=\"Making prediction on the whole test data\"):\n",
    "    with torch.inference_mode():\n",
    "        y_logits = model_0(X)\n",
    "        y_pred = torch.softmax(y_logits,dim=1).argmax(dim=1)\n",
    "        y_whole_pred.append(y_pred.cpu())\n",
    "    \n",
    "y_whole_pred = torch.cat(y_whole_pred)\n",
    "y_whole_pred"
   ]
  },
  {
   "cell_type": "markdown",
   "metadata": {},
   "source": [
    "### 11.Plot a confusion matrix comparing your model's predictions to the truth labels."
   ]
  },
  {
   "cell_type": "code",
   "execution_count": 106,
   "metadata": {},
   "outputs": [
    {
     "data": {
      "image/png": "[encoded data removed]",
      "text/plain": [
       "<Figure size 1000x700 with 1 Axes>"
      ]
     },
     "metadata": {},
     "output_type": "display_data"
    }
   ],
   "source": [
    "# Making a confusion matrix for further predictions\n",
    "\n",
    "confmat = ConfusionMatrix(num_classes=len(class_name),task=\"MULTICLASS\")\n",
    "confmat_tensor = confmat(preds=y_whole_pred,target=true_label)\n",
    "# print(confmat_tensor)\n",
    "\n",
    "# # Plot the confusion matrix\n",
    "fig,ax = plot_confusion_matrix(conf_mat=confmat_tensor.numpy(),class_names=class_name,figsize=(10,7))\n"
   ]
  },
  {
   "cell_type": "markdown",
   "metadata": {},
   "source": [
    "### 12. Create a random tensor of shape [1, 3, 64, 64] and pass it through a nn.Conv2d() layer with various hyperparameter settings (these can be any settings you choose), what do you notice if the kernel_size parameter goes up and down?"
   ]
  },
  {
   "cell_type": "code",
   "execution_count": 98,
   "metadata": {},
   "outputs": [
    {
     "data": {
      "text/plain": [
       "torch.Size([1, 1, 64, 64])"
      ]
     },
     "execution_count": 98,
     "metadata": {},
     "output_type": "execute_result"
    }
   ],
   "source": [
    "sample_tensor = torch.randn(size=(1,3,64,64))\n",
    "# plt.imshow(sample_tensor[0][0])\n",
    "n = 1\n",
    "test_model = nn.Conv2d(in_channels=3,kernel_size=n,padding=0,stride=1,out_channels=1)\n",
    "sample_tensor_result = test_model(sample_tensor)\n",
    "sample_tensor_result.shape"
   ]
  },
  {
   "cell_type": "markdown",
   "metadata": {},
   "source": [
    "While the stride is 1 and padding is 0,an increase in the kernel_size will reduce the size of the output by n-1. "
   ]
  },
  {
   "cell_type": "markdown",
   "metadata": {},
   "source": [
    "### 13. Use a model similar to the trained model_2 from this notebook to make predictions on the test torchvision.datasets.FashionMNIST dataset.\n",
    "    * Then plot some predictions where the model was wrong alongside what the label of the image should've been.\n",
    "    * After visualizing these predictions do you think it's more of a modelling error or a data error?\n",
    "    * As in, could the model do better or are the labels of the data too close to each other (e.g. a \"Shirt\" label is too close to \"T-shirt/top\")?"
   ]
  },
  {
   "cell_type": "code",
   "execution_count": 172,
   "metadata": {},
   "outputs": [
    {
     "data": {
      "text/plain": [
       "(Dataset FashionMNIST\n",
       "     Number of datapoints: 10000\n",
       "     Root location: data\n",
       "     Split: Test\n",
       "     StandardTransform\n",
       " Transform: ToTensor(),\n",
       " ['T-shirt/top',\n",
       "  'Trouser',\n",
       "  'Pullover',\n",
       "  'Dress',\n",
       "  'Coat',\n",
       "  'Sandal',\n",
       "  'Shirt',\n",
       "  'Sneaker',\n",
       "  'Bag',\n",
       "  'Ankle boot'])"
      ]
     },
     "execution_count": 172,
     "metadata": {},
     "output_type": "execute_result"
    }
   ],
   "source": [
    "fashionMNSIT_test_data = datasets.FashionMNIST(root='data',train=False,transform=ToTensor(),download=True)\n",
    "fashionMNSIT_test_data , fashionMNSIT_test_data.classes"
   ]
  },
  {
   "cell_type": "code",
   "execution_count": 173,
   "metadata": {},
   "outputs": [
    {
     "data": {
      "text/plain": [
       "<matplotlib.image.AxesImage at 0x7bc460aed0a0>"
      ]
     },
     "execution_count": 173,
     "metadata": {},
     "output_type": "execute_result"
    },
    {
     "data": {
      "image/png": "[encoded data removed]",
      "text/plain": [
       "<Figure size 640x480 with 1 Axes>"
      ]
     },
     "metadata": {},
     "output_type": "display_data"
    }
   ],
   "source": [
    "plt.imshow(fashionMNSIT_test_data.data[1000],cmap='gray')"
   ]
  },
  {
   "cell_type": "code",
   "execution_count": 174,
   "metadata": {},
   "outputs": [],
   "source": [
    "class FashionMNISTModel(nn.Module):\n",
    "     def __init__(self,input_shape:int,hidden_units:int,output_shape:int):\n",
    "        super().__init__()\n",
    "        self.conv_block_1 = nn.Sequential(\n",
    "            nn.Conv2d(in_channels=input_shape,out_channels=hidden_units,kernel_size=3,padding=1,stride=1),\n",
    "            nn.ReLU(),\n",
    "            nn.Conv2d(in_channels=hidden_units,out_channels=hidden_units,kernel_size=3,padding=1,stride=1),\n",
    "            nn.ReLU(),\n",
    "            nn.MaxPool2d(kernel_size=2)   \n",
    "        )\n",
    "        self.conv_block_2 = nn.Sequential(nn.Conv2d(in_channels=hidden_units,out_channels=hidden_units,kernel_size=3,stride=1,padding=1),\n",
    "        nn.ReLU(),\n",
    "        nn.Conv2d(in_channels=hidden_units,out_channels=hidden_units,kernel_size=3,stride=1,padding=1),\n",
    "        nn.ReLU(),\n",
    "        nn.MaxPool2d(kernel_size=2))\n",
    "        self.classifier = nn.Sequential(\n",
    "            nn.Flatten(),\n",
    "            nn.Linear(in_features=hidden_units*7*7,out_features=output_shape)\n",
    "        )\n",
    "     def forward(self,x):\n",
    "        x = self.conv_block_1(x)\n",
    "      #  print(f\"The dims of x after Conv block 1 {x.shape}\")\n",
    "        x = self.conv_block_2(x)\n",
    "      #  print(f\"The dims of x after Conv block 2 {x.shape}\")\n",
    "        x = self.classifier(x)\n",
    "      #  print(f\"The dims of x after classifier block {x.shape}\")\n",
    "        return x"
   ]
  },
  {
   "cell_type": "code",
   "execution_count": 175,
   "metadata": {},
   "outputs": [
    {
     "data": {
      "text/plain": [
       "OrderedDict([('conv_block_1.0.weight',\n",
       "              tensor([[[[ 1.6606e-01,  2.8927e-01, -4.9044e-01],\n",
       "                        [ 4.3421e-01,  2.8485e-02, -1.1488e-01],\n",
       "                        [-4.5839e-01,  1.0656e-01,  3.7884e-01]]],\n",
       "              \n",
       "              \n",
       "                      [[[-4.8883e-01,  3.0243e-01, -1.3411e-01],\n",
       "                        [ 2.5365e-01,  3.4932e-01, -6.4854e-02],\n",
       "                        [-1.8534e-01,  2.9074e-01, -2.3730e-01]]],\n",
       "              \n",
       "              \n",
       "                      [[[-1.5561e-01,  8.4966e-02, -1.5358e-01],\n",
       "                        [-3.9091e-02, -1.3539e-01,  2.2112e-01],\n",
       "                        [-2.6312e-01, -1.5367e-01, -9.4125e-02]]],\n",
       "              \n",
       "              \n",
       "                      [[[-1.5935e-01, -4.0729e-01, -6.4345e-01],\n",
       "                        [ 6.3782e-01, -5.8606e-01,  3.7180e-01],\n",
       "                        [ 4.0092e-01, -2.3686e-01,  4.9438e-01]]],\n",
       "              \n",
       "              \n",
       "                      [[[-9.8463e-02,  1.7463e-01, -1.5960e-01],\n",
       "                        [-2.2253e-01,  2.9404e-01, -4.5749e-01],\n",
       "                        [-8.9005e-02,  1.5639e-01, -2.0054e-01]]],\n",
       "              \n",
       "              \n",
       "                      [[[-6.8881e-02,  2.5665e-01,  2.9445e-01],\n",
       "                        [ 9.6138e-02, -4.7792e-01, -4.4239e-01],\n",
       "                        [-1.1226e-01, -2.7322e-01,  4.5300e-01]]],\n",
       "              \n",
       "              \n",
       "                      [[[ 1.1885e-01,  4.8269e-01,  1.4336e-01],\n",
       "                        [-2.1621e-02,  5.0490e-01, -4.8751e-01],\n",
       "                        [-1.5255e-01, -4.0236e-01, -4.1184e-02]]],\n",
       "              \n",
       "              \n",
       "                      [[[-1.1697e-01,  1.0474e-01, -7.8947e-02],\n",
       "                        [ 2.9779e-01, -1.8480e-01, -1.9154e-01],\n",
       "                        [-1.9858e-01,  2.9644e-01,  1.0411e-01]]],\n",
       "              \n",
       "              \n",
       "                      [[[ 3.1364e-01, -2.7573e-01, -3.3025e-01],\n",
       "                        [-2.6286e-01, -2.2357e-01,  1.3485e-01],\n",
       "                        [ 1.1868e-01,  2.7945e-01, -1.7443e-01]]],\n",
       "              \n",
       "              \n",
       "                      [[[-1.8256e-01,  4.6366e-01, -7.2217e-02],\n",
       "                        [ 6.8727e-02, -1.8879e-01,  4.8645e-01],\n",
       "                        [-6.7878e-01, -4.8791e-01,  2.8025e-01]]],\n",
       "              \n",
       "              \n",
       "                      [[[ 4.3434e-01, -8.4476e-02,  4.1979e-01],\n",
       "                        [ 6.7034e-01, -8.2059e-01, -6.5850e-01],\n",
       "                        [ 7.4312e-01, -2.3091e-01, -4.8395e-01]]],\n",
       "              \n",
       "              \n",
       "                      [[[-5.4677e-01, -5.0071e-01,  2.6179e-01],\n",
       "                        [-5.1652e-01, -7.8649e-01, -2.9683e-01],\n",
       "                        [-5.0652e-01, -7.8623e-01, -3.3879e-01]]],\n",
       "              \n",
       "              \n",
       "                      [[[-2.9193e-01, -2.1315e-01,  3.3208e-01],\n",
       "                        [ 6.4589e-02,  1.0374e-01, -3.1156e-01],\n",
       "                        [-2.1810e-01, -1.1086e-01,  5.1697e-02]]],\n",
       "              \n",
       "              \n",
       "                      [[[-2.9331e-01, -1.4362e-01, -1.9956e-01],\n",
       "                        [ 9.2375e-04, -1.2403e-01, -2.3099e-02],\n",
       "                        [-2.2588e-01, -2.2880e-01, -1.9447e-01]]],\n",
       "              \n",
       "              \n",
       "                      [[[-3.5870e-01, -2.6820e-01,  4.5531e-01],\n",
       "                        [-2.3577e-01,  5.4693e-01,  3.5923e-01],\n",
       "                        [-6.2784e-01,  3.3745e-01, -4.8689e-02]]],\n",
       "              \n",
       "              \n",
       "                      [[[-1.2818e-01, -2.7669e-01, -3.3144e-01],\n",
       "                        [ 9.5476e-02, -7.1967e-02,  1.3245e-01],\n",
       "                        [-2.7311e-01,  2.4850e-01, -2.4409e-01]]],\n",
       "              \n",
       "              \n",
       "                      [[[-3.6166e-01,  2.8764e-01,  8.1013e-03],\n",
       "                        [ 4.3415e-01,  7.1645e-01, -7.8803e-01],\n",
       "                        [ 1.9452e-01, -1.2249e-01, -2.9095e-01]]],\n",
       "              \n",
       "              \n",
       "                      [[[-3.6623e-01,  2.6945e-01, -5.1749e-01],\n",
       "                        [ 3.1874e-01,  4.0259e-01, -3.5499e-02],\n",
       "                        [-3.6251e-01,  3.3768e-01, -5.2953e-02]]],\n",
       "              \n",
       "              \n",
       "                      [[[ 8.8563e-02, -5.6360e-01,  2.4340e-01],\n",
       "                        [-4.4043e-01, -7.2559e-01,  1.5864e-01],\n",
       "                        [ 1.4782e-01, -3.6637e-01, -1.3776e-01]]],\n",
       "              \n",
       "              \n",
       "                      [[[-1.4139e-02,  1.9006e-01, -8.4919e-02],\n",
       "                        [-1.8888e-01, -1.1074e-01, -2.4900e-01],\n",
       "                        [ 1.2522e-01,  2.6662e-01, -3.1370e-01]]],\n",
       "              \n",
       "              \n",
       "                      [[[ 3.3878e-02,  2.1890e-01,  1.1727e-01],\n",
       "                        [-2.7042e-01,  2.4958e-01,  2.0149e-01],\n",
       "                        [-8.3595e-02, -2.5981e-01, -4.3751e-01]]],\n",
       "              \n",
       "              \n",
       "                      [[[ 2.1745e-01,  6.7000e-02, -1.3856e-01],\n",
       "                        [ 3.3574e-01,  4.1933e-01, -3.0866e-02],\n",
       "                        [-4.6424e-02,  2.5633e-02, -8.3353e-03]]],\n",
       "              \n",
       "              \n",
       "                      [[[ 2.8813e-01,  2.2320e-01, -5.5080e-01],\n",
       "                        [-5.6703e-02,  3.7555e-01, -2.7444e-02],\n",
       "                        [-4.7613e-02, -3.6089e-01, -4.0485e-01]]],\n",
       "              \n",
       "              \n",
       "                      [[[-4.4739e-01, -2.6737e-01, -1.2075e-02],\n",
       "                        [ 1.9311e-01,  7.0483e-02, -3.2838e-01],\n",
       "                        [-2.7442e-01, -1.4485e-01,  2.6857e-01]]],\n",
       "              \n",
       "              \n",
       "                      [[[ 1.4936e-01, -1.0627e-01,  1.6831e-01],\n",
       "                        [-8.4225e-02, -3.2924e-01,  2.0746e-01],\n",
       "                        [-1.4390e-01, -1.7403e-01, -4.8421e-01]]],\n",
       "              \n",
       "              \n",
       "                      [[[ 2.9284e-01,  8.9342e-02, -1.9943e-01],\n",
       "                        [-1.0125e-01, -6.1080e-01, -5.9691e-01],\n",
       "                        [ 4.5099e-01,  1.6085e-01,  3.4684e-01]]],\n",
       "              \n",
       "              \n",
       "                      [[[ 1.7431e-01,  8.4023e-02, -3.3145e-03],\n",
       "                        [-2.5351e-01, -2.8559e-01, -3.1178e-01],\n",
       "                        [ 1.3610e-01, -1.6370e-01, -6.7095e-02]]],\n",
       "              \n",
       "              \n",
       "                      [[[-1.9182e-01, -6.0582e-02, -2.3463e-01],\n",
       "                        [-2.1808e-01,  1.1174e-01, -9.8905e-02],\n",
       "                        [ 1.9590e-01, -1.0755e-01, -2.4427e-01]]],\n",
       "              \n",
       "              \n",
       "                      [[[-2.3393e-01, -4.7104e-01, -1.8039e-01],\n",
       "                        [-4.3778e-01, -8.7780e-02, -3.4724e-01],\n",
       "                        [ 2.7410e-01,  2.7298e-01,  3.7544e-01]]],\n",
       "              \n",
       "              \n",
       "                      [[[-2.4997e-01,  4.0004e-01, -2.8215e-01],\n",
       "                        [ 3.1947e-01,  6.1601e-01, -2.7160e-01],\n",
       "                        [ 1.6293e-01,  4.6629e-03, -4.5917e-01]]],\n",
       "              \n",
       "              \n",
       "                      [[[ 2.5957e-01, -3.9822e-01,  2.2220e-01],\n",
       "                        [ 3.0656e-01,  5.0719e-01, -1.4235e-02],\n",
       "                        [-3.9533e-01,  2.2141e-01,  2.0511e-01]]],\n",
       "              \n",
       "              \n",
       "                      [[[-3.3162e-01, -7.5645e-02, -1.9997e-01],\n",
       "                        [-2.9312e-02, -1.6387e-01, -1.3840e-01],\n",
       "                        [-1.0667e-01, -3.1614e-01,  2.7861e-01]]],\n",
       "              \n",
       "              \n",
       "                      [[[ 4.5310e-01, -1.1669e-01, -4.0512e-01],\n",
       "                        [-2.5175e-01, -1.0385e+00, -1.1222e+00],\n",
       "                        [ 4.1621e-01, -6.5923e-02, -2.7115e-01]]],\n",
       "              \n",
       "              \n",
       "                      [[[-1.2368e-01, -3.6955e-01, -1.2041e-01],\n",
       "                        [-2.2062e-01, -3.9221e-01, -3.0984e-01],\n",
       "                        [-8.0994e-02, -3.5452e-01,  3.3286e-01]]],\n",
       "              \n",
       "              \n",
       "                      [[[-3.6476e-01,  2.0768e-01, -3.1724e-01],\n",
       "                        [-4.8538e-01,  7.4106e-01,  2.3876e-01],\n",
       "                        [-9.9790e-01,  2.1692e-01,  4.4632e-01]]],\n",
       "              \n",
       "              \n",
       "                      [[[-1.7748e-01,  3.1893e-01,  2.8439e-01],\n",
       "                        [-3.9404e-01,  3.8981e-01, -3.2890e-01],\n",
       "                        [-3.9185e-01,  3.1508e-01,  3.5888e-02]]],\n",
       "              \n",
       "              \n",
       "                      [[[-2.1093e-01, -2.6730e-01, -2.2779e-01],\n",
       "                        [-3.2896e-01, -2.5721e-01, -8.2432e-02],\n",
       "                        [ 2.2493e-01,  5.5765e-02, -2.5354e-01]]],\n",
       "              \n",
       "              \n",
       "                      [[[-2.7864e-01,  2.0793e-01, -2.7198e-01],\n",
       "                        [-6.3417e-02,  1.5703e-01, -2.2445e-01],\n",
       "                        [-4.5381e-02, -6.9438e-02, -1.1744e-01]]],\n",
       "              \n",
       "              \n",
       "                      [[[-2.3081e-01, -4.6347e-01, -3.3153e-01],\n",
       "                        [-2.0550e-01,  2.2455e-01, -1.6802e-01],\n",
       "                        [-2.6957e-01,  3.9511e-02,  1.8849e-01]]],\n",
       "              \n",
       "              \n",
       "                      [[[ 1.2129e-01,  3.9712e-01,  3.8031e-01],\n",
       "                        [-8.2615e-01, -2.4144e-02,  6.2011e-01],\n",
       "                        [-2.9459e-01, -3.7627e-01,  5.0492e-01]]]])),\n",
       "             ('conv_block_1.0.bias',\n",
       "              tensor([-0.0418,  0.0641, -0.3005,  0.0513, -0.2124,  0.1057, -0.0032, -0.2493,\n",
       "                      -0.3132,  0.1098,  0.0947,  0.3450, -0.1945, -0.0433, -0.2139, -0.1591,\n",
       "                       0.0803,  0.1118,  0.2819, -0.2968,  0.1350, -0.5075,  0.1119,  0.3248,\n",
       "                       0.1048,  0.1150, -0.2844, -0.1388,  0.1417,  0.0160, -0.7102, -0.1380,\n",
       "                       0.2414,  0.1415,  0.1169,  0.0294, -0.2706,  0.0516,  0.1299, -0.2617])),\n",
       "             ('conv_block_1.2.weight',\n",
       "              tensor([[[[-0.0433,  0.0477, -0.0463],\n",
       "                        [-0.0457, -0.0053, -0.0366],\n",
       "                        [-0.1133, -0.0210, -0.0088]],\n",
       "              \n",
       "                       [[-0.0409, -0.0037, -0.0265],\n",
       "                        [ 0.0735,  0.0916,  0.0630],\n",
       "                        [-0.0535, -0.0432,  0.0155]],\n",
       "              \n",
       "                       [[-0.0351, -0.0345, -0.0025],\n",
       "                        [-0.0193, -0.0395,  0.0313],\n",
       "                        [ 0.0424,  0.0085, -0.0092]],\n",
       "              \n",
       "                       ...,\n",
       "              \n",
       "                       [[ 0.0270,  0.0175,  0.0377],\n",
       "                        [-0.0404, -0.0516,  0.0231],\n",
       "                        [ 0.0411,  0.0179,  0.0022]],\n",
       "              \n",
       "                       [[ 0.0220,  0.0751, -0.0270],\n",
       "                        [-0.0336,  0.0455, -0.0355],\n",
       "                        [-0.0311,  0.0434,  0.0133]],\n",
       "              \n",
       "                       [[ 0.0752, -0.0008, -0.0318],\n",
       "                        [ 0.1336,  0.0107,  0.0162],\n",
       "                        [ 0.1285,  0.0612,  0.1071]]],\n",
       "              \n",
       "              \n",
       "                      [[[-0.0353, -0.0150, -0.0095],\n",
       "                        [-0.0429, -0.0592,  0.0265],\n",
       "                        [ 0.0031, -0.0588, -0.0422]],\n",
       "              \n",
       "                       [[ 0.0506,  0.0159,  0.0183],\n",
       "                        [-0.0376, -0.0293, -0.0145],\n",
       "                        [-0.0070, -0.0353,  0.0015]],\n",
       "              \n",
       "                       [[ 0.0052, -0.0067,  0.0073],\n",
       "                        [-0.0209,  0.0137,  0.0199],\n",
       "                        [-0.0278, -0.0523,  0.0276]],\n",
       "              \n",
       "                       ...,\n",
       "              \n",
       "                       [[ 0.0196,  0.0394, -0.0028],\n",
       "                        [-0.0281,  0.0449,  0.0214],\n",
       "                        [ 0.0348, -0.0347,  0.0287]],\n",
       "              \n",
       "                       [[-0.0404,  0.0392, -0.0318],\n",
       "                        [ 0.0407,  0.0135,  0.0206],\n",
       "                        [-0.0039,  0.0160, -0.0228]],\n",
       "              \n",
       "                       [[-0.0496, -0.0208,  0.0374],\n",
       "                        [-0.0096,  0.0153, -0.0281],\n",
       "                        [ 0.0382,  0.0096,  0.0023]]],\n",
       "              \n",
       "              \n",
       "                      [[[-0.0688, -0.0421,  0.0293],\n",
       "                        [ 0.0218,  0.0698, -0.1984],\n",
       "                        [ 0.1043,  0.0138, -0.0554]],\n",
       "              \n",
       "                       [[ 0.0545, -0.0322, -0.0504],\n",
       "                        [ 0.0400, -0.0130, -0.0480],\n",
       "                        [ 0.0447, -0.0300, -0.0250]],\n",
       "              \n",
       "                       [[-0.0365, -0.0373,  0.0086],\n",
       "                        [-0.0071,  0.0121, -0.0442],\n",
       "                        [ 0.0016, -0.0234, -0.0259]],\n",
       "              \n",
       "                       ...,\n",
       "              \n",
       "                       [[ 0.0454,  0.0172, -0.0383],\n",
       "                        [ 0.0090,  0.0150,  0.0449],\n",
       "                        [-0.0262, -0.0518,  0.0310]],\n",
       "              \n",
       "                       [[-0.0262, -0.0433, -0.0201],\n",
       "                        [-0.0480,  0.0288,  0.0092],\n",
       "                        [ 0.0049,  0.0303,  0.0450]],\n",
       "              \n",
       "                       [[ 0.0309, -0.1369,  0.0307],\n",
       "                        [ 0.0669, -0.0777, -0.0081],\n",
       "                        [ 0.0581, -0.0695, -0.0772]]],\n",
       "              \n",
       "              \n",
       "                      ...,\n",
       "              \n",
       "              \n",
       "                      [[[-0.0431,  0.0601,  0.0357],\n",
       "                        [ 0.0446, -0.0064, -0.0952],\n",
       "                        [ 0.1725,  0.0232, -0.0361]],\n",
       "              \n",
       "                       [[ 0.0348, -0.0645, -0.1060],\n",
       "                        [ 0.0956, -0.0384,  0.0120],\n",
       "                        [ 0.0814, -0.0631,  0.1169]],\n",
       "              \n",
       "                       [[-0.0271,  0.0082,  0.0302],\n",
       "                        [-0.0061, -0.0289,  0.0112],\n",
       "                        [ 0.0232, -0.0427, -0.0425]],\n",
       "              \n",
       "                       ...,\n",
       "              \n",
       "                       [[-0.0008,  0.0486,  0.0505],\n",
       "                        [-0.0448,  0.0225,  0.0532],\n",
       "                        [-0.0247,  0.0179, -0.0419]],\n",
       "              \n",
       "                       [[ 0.0394, -0.0143,  0.0566],\n",
       "                        [ 0.0094, -0.0447, -0.0084],\n",
       "                        [-0.0497, -0.0643, -0.0518]],\n",
       "              \n",
       "                       [[ 0.0215,  0.0326, -0.0148],\n",
       "                        [ 0.0764, -0.0738,  0.0732],\n",
       "                        [ 0.0543, -0.0261, -0.0623]]],\n",
       "              \n",
       "              \n",
       "                      [[[ 0.0656, -0.0523, -0.2231],\n",
       "                        [ 0.0553, -0.0681, -0.0350],\n",
       "                        [ 0.0375,  0.0304,  0.0426]],\n",
       "              \n",
       "                       [[-0.1038, -0.1151, -0.0004],\n",
       "                        [-0.0145,  0.0240,  0.0132],\n",
       "                        [-0.0086,  0.0599, -0.0413]],\n",
       "              \n",
       "                       [[ 0.0204,  0.0082,  0.0351],\n",
       "                        [-0.0175,  0.0503, -0.0015],\n",
       "                        [-0.0478,  0.0257,  0.0371]],\n",
       "              \n",
       "                       ...,\n",
       "              \n",
       "                       [[-0.0288, -0.0594,  0.0108],\n",
       "                        [-0.0637, -0.0028, -0.0034],\n",
       "                        [-0.0134,  0.0266, -0.0547]],\n",
       "              \n",
       "                       [[ 0.0755,  0.0258, -0.0355],\n",
       "                        [-0.0284, -0.0250, -0.0019],\n",
       "                        [ 0.0141, -0.0480,  0.0007]],\n",
       "              \n",
       "                       [[-0.0957, -0.0210, -0.0334],\n",
       "                        [-0.0044,  0.0652, -0.0699],\n",
       "                        [ 0.0590, -0.0474, -0.0170]]],\n",
       "              \n",
       "              \n",
       "                      [[[-0.1210, -0.0979, -0.0936],\n",
       "                        [-0.0433, -0.0071,  0.0272],\n",
       "                        [-0.0513,  0.0777,  0.0533]],\n",
       "              \n",
       "                       [[-0.1329,  0.0556,  0.0087],\n",
       "                        [ 0.0639,  0.0337, -0.0071],\n",
       "                        [ 0.0085, -0.0044,  0.0650]],\n",
       "              \n",
       "                       [[-0.0127,  0.0280, -0.0123],\n",
       "                        [ 0.0237, -0.0261,  0.0262],\n",
       "                        [ 0.0310,  0.0401, -0.0282]],\n",
       "              \n",
       "                       ...,\n",
       "              \n",
       "                       [[-0.0628,  0.0022, -0.0297],\n",
       "                        [-0.0596, -0.0588,  0.0007],\n",
       "                        [ 0.0030, -0.0336,  0.0061]],\n",
       "              \n",
       "                       [[ 0.0277,  0.1219,  0.0132],\n",
       "                        [ 0.0458, -0.0111, -0.0049],\n",
       "                        [-0.0576, -0.0606, -0.0085]],\n",
       "              \n",
       "                       [[-0.2139, -0.1643, -0.0031],\n",
       "                        [-0.1719, -0.0352, -0.0097],\n",
       "                        [-0.0795,  0.0643,  0.0736]]]])),\n",
       "             ('conv_block_1.2.bias',\n",
       "              tensor([-0.0973, -0.0336,  0.1235,  0.0775, -0.0268, -0.1233,  0.1542,  0.0493,\n",
       "                      -0.0619, -0.0013,  0.3371, -0.0048,  0.0654,  0.0214,  0.1466, -0.0326,\n",
       "                       0.1679,  0.1227, -0.0838,  0.2813, -0.0310, -0.2077, -0.1389, -0.0583,\n",
       "                       0.2507, -0.1477,  0.0960,  0.3441,  0.1106, -0.1359, -0.0485,  0.2706,\n",
       "                      -0.0501, -0.0411,  0.0638,  0.3313,  0.0128, -0.0771,  0.1470,  0.3926])),\n",
       "             ('conv_block_2.0.weight',\n",
       "              tensor([[[[-3.5163e-02,  6.3292e-02, -1.5968e-02],\n",
       "                        [-5.2252e-02,  1.2771e-01, -1.2966e-02],\n",
       "                        [-9.1763e-03, -3.8363e-02, -5.1420e-03]],\n",
       "              \n",
       "                       [[ 5.2583e-02, -4.2574e-02,  4.8613e-02],\n",
       "                        [ 2.9732e-02,  4.4454e-02, -2.7580e-02],\n",
       "                        [-4.2617e-02,  4.5328e-02, -2.4238e-02]],\n",
       "              \n",
       "                       [[-5.5861e-03,  4.2973e-02,  8.9449e-03],\n",
       "                        [-6.6194e-02, -4.6075e-03,  1.0347e-01],\n",
       "                        [-2.6997e-02, -3.3549e-02,  4.3421e-02]],\n",
       "              \n",
       "                       ...,\n",
       "              \n",
       "                       [[ 1.4674e-02, -8.1509e-02, -9.0446e-02],\n",
       "                        [-2.7486e-02, -3.4175e-02,  8.3870e-02],\n",
       "                        [-8.5823e-02, -1.5957e-01,  3.6578e-02]],\n",
       "              \n",
       "                       [[ 2.7445e-03,  1.6225e-02,  7.3605e-02],\n",
       "                        [ 1.9019e-02, -4.6128e-02, -1.2730e-02],\n",
       "                        [-5.2505e-02, -1.0785e-01, -2.4150e-02]],\n",
       "              \n",
       "                       [[ 1.4437e-03,  3.7989e-02,  1.1870e-01],\n",
       "                        [-3.6062e-02,  2.0069e-02,  2.1551e-02],\n",
       "                        [-1.5778e-01, -1.5317e-02,  1.7361e-02]]],\n",
       "              \n",
       "              \n",
       "                      [[[-1.1912e-01, -8.0029e-02,  5.9256e-02],\n",
       "                        [ 3.2824e-03, -4.8332e-02, -4.4627e-02],\n",
       "                        [ 5.1949e-02, -5.3701e-02,  9.1984e-02]],\n",
       "              \n",
       "                       [[-2.3186e-02,  3.0417e-03,  4.7069e-02],\n",
       "                        [-4.8343e-02, -6.4041e-03,  4.2920e-02],\n",
       "                        [-3.5150e-03, -4.0587e-02, -3.8232e-02]],\n",
       "              \n",
       "                       [[-7.3097e-02,  6.0764e-02, -2.2991e-02],\n",
       "                        [ 7.5388e-02,  8.6779e-02, -1.9709e-01],\n",
       "                        [ 1.2391e-01, -7.5451e-02, -1.2955e-01]],\n",
       "              \n",
       "                       ...,\n",
       "              \n",
       "                       [[-1.3869e-01, -4.2045e-02, -1.1916e-01],\n",
       "                        [ 1.3166e-01,  1.2198e-01, -3.1697e-01],\n",
       "                        [ 7.9872e-02,  2.3642e-01, -2.8761e-01]],\n",
       "              \n",
       "                       [[ 5.4262e-02, -4.2947e-02,  5.3150e-02],\n",
       "                        [ 1.2585e-01, -7.1484e-02,  1.1834e-01],\n",
       "                        [-1.2356e-02, -1.2859e-01,  4.3631e-02]],\n",
       "              \n",
       "                       [[ 2.5832e-02, -2.0130e-01, -1.4137e-01],\n",
       "                        [ 2.1246e-01,  9.6776e-02,  9.2940e-02],\n",
       "                        [ 6.6104e-02,  1.2257e-02,  1.5654e-01]]],\n",
       "              \n",
       "              \n",
       "                      [[[ 1.5064e-02,  4.6140e-02,  4.1780e-02],\n",
       "                        [ 3.6273e-02, -4.1561e-02, -5.0328e-03],\n",
       "                        [-1.3541e-02, -5.4167e-03,  3.8314e-02]],\n",
       "              \n",
       "                       [[-3.4388e-02, -2.7711e-02, -2.0705e-02],\n",
       "                        [ 3.8264e-03, -3.0041e-02,  1.0927e-02],\n",
       "                        [-4.4767e-02, -2.7655e-02,  3.2022e-02]],\n",
       "              \n",
       "                       [[ 4.0691e-02, -1.4106e-02,  4.3092e-03],\n",
       "                        [ 3.2312e-04, -3.6585e-02, -1.2116e-02],\n",
       "                        [ 3.3065e-02,  3.5168e-03,  4.8765e-02]],\n",
       "              \n",
       "                       ...,\n",
       "              \n",
       "                       [[ 5.0259e-02,  1.3066e-02, -3.3994e-02],\n",
       "                        [ 1.2182e-02,  3.9555e-02, -1.1274e-02],\n",
       "                        [ 5.0712e-03, -2.3672e-02,  3.6925e-02]],\n",
       "              \n",
       "                       [[-2.8876e-02, -2.9858e-02, -1.5320e-02],\n",
       "                        [ 1.0471e-03,  1.4123e-02,  3.9550e-02],\n",
       "                        [ 3.5631e-02,  8.8676e-03,  1.2792e-02]],\n",
       "              \n",
       "                       [[ 4.0392e-02, -2.4635e-02, -3.5288e-02],\n",
       "                        [ 3.3529e-02,  3.4451e-02, -1.4471e-02],\n",
       "                        [-8.4704e-03,  2.9999e-02, -2.0154e-02]]],\n",
       "              \n",
       "              \n",
       "                      ...,\n",
       "              \n",
       "              \n",
       "                      [[[ 7.6632e-02,  8.5023e-02,  3.2121e-02],\n",
       "                        [ 1.3605e-02,  6.7592e-02, -2.5605e-02],\n",
       "                        [ 1.2956e-01,  5.6101e-02,  3.8847e-02]],\n",
       "              \n",
       "                       [[-4.6517e-02, -6.1130e-03, -1.1278e-02],\n",
       "                        [-4.5044e-03, -2.9596e-02, -4.4622e-02],\n",
       "                        [ 4.8097e-02, -4.4288e-02,  1.2444e-02]],\n",
       "              \n",
       "                       [[-8.1186e-03, -4.5414e-03,  6.9503e-02],\n",
       "                        [-8.1258e-02, -1.1218e-01, -1.3619e-02],\n",
       "                        [-1.4486e-02, -1.1295e-01, -3.9161e-02]],\n",
       "              \n",
       "                       ...,\n",
       "              \n",
       "                       [[-7.4585e-02,  2.6324e-02,  1.7442e-02],\n",
       "                        [ 1.5718e-02, -4.2926e-02,  3.2157e-02],\n",
       "                        [ 7.0490e-02,  3.3386e-02,  5.7671e-02]],\n",
       "              \n",
       "                       [[-4.3330e-02,  6.6809e-02, -5.3417e-04],\n",
       "                        [ 6.9362e-02,  1.8849e-02, -1.8204e-02],\n",
       "                        [ 6.1955e-02,  6.1871e-02, -1.6776e-02]],\n",
       "              \n",
       "                       [[ 9.7988e-02, -1.2865e-02, -2.8042e-02],\n",
       "                        [-1.0802e-02, -1.3397e-02,  8.0030e-02],\n",
       "                        [ 1.1056e-01,  6.4683e-02, -3.1815e-02]]],\n",
       "              \n",
       "              \n",
       "                      [[[-6.8675e-02,  4.8393e-03, -3.7099e-02],\n",
       "                        [-2.5441e-02, -3.0579e-02,  7.0463e-03],\n",
       "                        [-7.2956e-02, -5.4088e-02,  9.3132e-02]],\n",
       "              \n",
       "                       [[ 5.1430e-03,  1.8691e-02,  2.3049e-02],\n",
       "                        [ 2.9195e-02,  1.6151e-02,  4.7902e-03],\n",
       "                        [ 1.7365e-02,  4.2124e-02, -9.1764e-03]],\n",
       "              \n",
       "                       [[ 1.6517e-01, -1.0618e-01, -9.4848e-02],\n",
       "                        [ 7.2195e-02, -1.2612e-01, -4.3265e-02],\n",
       "                        [ 5.0563e-02, -6.4147e-02, -5.9023e-02]],\n",
       "              \n",
       "                       ...,\n",
       "              \n",
       "                       [[-5.0527e-02, -3.9360e-02,  5.7691e-02],\n",
       "                        [ 3.7895e-03, -1.4467e-02,  4.6420e-02],\n",
       "                        [ 1.3979e-01,  1.7177e-01,  4.6892e-02]],\n",
       "              \n",
       "                       [[-6.7465e-02, -1.9788e-01, -7.9235e-02],\n",
       "                        [ 3.5013e-03,  4.6916e-02,  1.1544e-01],\n",
       "                        [-3.8453e-02,  1.5211e-01,  1.0669e-01]],\n",
       "              \n",
       "                       [[-8.5657e-02, -2.2187e-01,  6.6053e-02],\n",
       "                        [-5.4211e-02, -4.5750e-02,  1.9103e-01],\n",
       "                        [-1.0878e-02,  7.8041e-03,  1.4295e-01]]],\n",
       "              \n",
       "              \n",
       "                      [[[ 2.7014e-02,  3.0237e-02, -2.3312e-02],\n",
       "                        [ 2.3654e-02, -3.8541e-02, -5.8367e-02],\n",
       "                        [ 8.7668e-02, -3.6842e-02, -2.9837e-02]],\n",
       "              \n",
       "                       [[-4.7157e-02, -1.3292e-02, -2.7183e-02],\n",
       "                        [ 3.0733e-02, -4.1200e-02, -4.0671e-02],\n",
       "                        [ 1.2065e-03, -1.7827e-02, -4.3535e-02]],\n",
       "              \n",
       "                       [[ 4.6331e-02,  9.6499e-02, -2.4732e-02],\n",
       "                        [ 1.0058e-02, -1.0432e-04, -6.4882e-02],\n",
       "                        [-8.8344e-02,  1.3712e-01, -2.5060e-02]],\n",
       "              \n",
       "                       ...,\n",
       "              \n",
       "                       [[-3.1102e-02,  2.0991e-02,  9.5411e-02],\n",
       "                        [-3.6512e-02, -6.6900e-02, -5.5671e-02],\n",
       "                        [-2.1348e-02, -1.8335e-02,  1.9774e-02]],\n",
       "              \n",
       "                       [[-3.4692e-02, -7.4412e-02, -1.1292e-01],\n",
       "                        [-5.3861e-03, -5.9309e-02, -7.9061e-02],\n",
       "                        [ 2.1218e-02,  6.3570e-02,  5.5871e-02]],\n",
       "              \n",
       "                       [[-7.1561e-02, -3.5405e-02, -3.9228e-02],\n",
       "                        [ 3.0563e-02, -1.1842e-01,  2.6415e-02],\n",
       "                        [ 1.5671e-01, -1.1159e-02, -6.2133e-03]]]])),\n",
       "             ('conv_block_2.0.bias',\n",
       "              tensor([ 2.2863e-02,  5.7422e-01,  1.3933e-02,  5.0670e-01,  5.3061e-02,\n",
       "                       1.6764e-01,  7.5302e-02,  8.8851e-02,  1.7730e-01, -1.8326e-02,\n",
       "                      -3.3951e-02, -2.3445e-02, -3.0605e-02, -6.1669e-02,  2.5296e-01,\n",
       "                       3.3825e-02,  3.0649e-01, -7.4625e-02,  2.4723e-01,  4.9390e-02,\n",
       "                      -1.4073e-01, -5.3766e-02,  1.1996e-04,  5.2971e-02,  3.3073e-01,\n",
       "                      -5.8389e-02,  3.6626e-02,  4.0404e-01, -1.6133e-01,  1.3841e-01,\n",
       "                       1.3334e-01, -2.1136e-01,  1.5618e-01, -4.4222e-02, -1.0251e-02,\n",
       "                       2.7027e-01, -1.5578e-01,  1.4010e-01, -1.4777e-01,  1.2810e-01])),\n",
       "             ('conv_block_2.2.weight',\n",
       "              tensor([[[[-4.3344e-02, -2.2654e-02,  1.8569e-03],\n",
       "                        [ 7.6636e-03, -5.6151e-02, -5.2174e-02],\n",
       "                        [-4.2061e-02,  3.0493e-02, -1.3236e-02]],\n",
       "              \n",
       "                       [[-3.1401e-01, -1.0775e-01, -5.0899e-02],\n",
       "                        [-5.1951e-02, -2.3994e-01, -1.2274e-01],\n",
       "                        [ 2.5163e-02, -5.8076e-02,  6.1913e-02]],\n",
       "              \n",
       "                       [[ 3.7551e-02, -1.4581e-03,  4.5510e-02],\n",
       "                        [-1.3248e-02,  3.6361e-02,  4.4091e-03],\n",
       "                        [-5.2628e-02,  1.7458e-02,  6.5109e-03]],\n",
       "              \n",
       "                       ...,\n",
       "              \n",
       "                       [[-1.9786e-02,  4.7467e-02,  1.0618e-03],\n",
       "                        [-5.5432e-02,  3.2545e-02, -8.1925e-04],\n",
       "                        [-5.7060e-02, -3.4334e-02, -4.6509e-02]],\n",
       "              \n",
       "                       [[ 1.1483e-01, -1.4456e-01, -8.2509e-02],\n",
       "                        [-7.2467e-02, -2.5892e-02, -1.4644e-02],\n",
       "                        [-1.4934e-01, -4.9679e-02,  3.7445e-02]],\n",
       "              \n",
       "                       [[ 7.0715e-02, -2.5375e-02, -7.2672e-02],\n",
       "                        [ 8.8315e-02,  6.2512e-02, -3.5377e-02],\n",
       "                        [-5.8240e-02,  4.8748e-02,  2.2369e-02]]],\n",
       "              \n",
       "              \n",
       "                      [[[ 2.0886e-02, -6.5066e-02, -4.9991e-02],\n",
       "                        [ 4.7308e-02,  2.7165e-02, -3.3533e-02],\n",
       "                        [-2.0348e-02,  3.4572e-02,  3.4795e-02]],\n",
       "              \n",
       "                       [[-1.7524e-01, -1.2367e-01, -3.9593e-02],\n",
       "                        [-8.0538e-02, -9.7522e-02, -1.0016e-01],\n",
       "                        [ 1.3502e-01, -4.7467e-02, -1.5049e-01]],\n",
       "              \n",
       "                       [[ 2.6625e-02, -6.8154e-03,  2.1009e-02],\n",
       "                        [-1.1248e-02,  3.7877e-02, -6.6365e-03],\n",
       "                        [-5.2298e-03,  3.2842e-02, -3.0723e-03]],\n",
       "              \n",
       "                       ...,\n",
       "              \n",
       "                       [[ 3.6420e-02,  3.1688e-02, -5.5197e-03],\n",
       "                        [ 4.0672e-02, -9.0652e-03,  2.8252e-02],\n",
       "                        [-1.8792e-02, -1.1828e-02, -1.2163e-02]],\n",
       "              \n",
       "                       [[ 8.6014e-02, -1.0239e-02, -1.2254e-02],\n",
       "                        [-1.0400e-01, -1.0842e-01,  3.8204e-03],\n",
       "                        [-2.4285e-01,  3.1823e-02,  5.0208e-02]],\n",
       "              \n",
       "                       [[ 2.9153e-02,  2.6925e-02, -1.8954e-02],\n",
       "                        [-8.7986e-03,  1.0346e-01, -3.7814e-03],\n",
       "                        [-3.2659e-02,  2.3449e-02, -3.3486e-03]]],\n",
       "              \n",
       "              \n",
       "                      [[[ 2.3324e-02, -7.8859e-03, -1.2679e-01],\n",
       "                        [ 8.9432e-03, -4.2228e-02, -2.4397e-02],\n",
       "                        [-4.4275e-02, -1.4235e-02, -5.7779e-02]],\n",
       "              \n",
       "                       [[-1.6048e-01, -6.1555e-02, -1.1947e-01],\n",
       "                        [-8.3343e-02, -1.1072e-01, -3.6025e-02],\n",
       "                        [ 5.5432e-02, -1.0353e-01, -6.4442e-02]],\n",
       "              \n",
       "                       [[-5.3090e-02, -5.1799e-02, -2.3271e-02],\n",
       "                        [ 1.1838e-02,  3.9308e-02,  9.1939e-03],\n",
       "                        [-5.3743e-02,  4.3643e-02,  4.6389e-02]],\n",
       "              \n",
       "                       ...,\n",
       "              \n",
       "                       [[ 5.7589e-05, -3.0096e-02,  4.1269e-02],\n",
       "                        [ 4.2238e-02, -4.0490e-02, -7.9054e-02],\n",
       "                        [-2.9329e-02,  2.9024e-02,  2.8934e-02]],\n",
       "              \n",
       "                       [[-5.3054e-04,  1.1944e-01,  1.0218e-01],\n",
       "                        [-1.9792e-02, -2.1228e-03, -3.4930e-03],\n",
       "                        [ 2.9484e-02, -7.4028e-03, -2.6866e-02]],\n",
       "              \n",
       "                       [[ 5.0901e-02,  7.4590e-02, -5.1239e-02],\n",
       "                        [-3.6897e-02,  7.0250e-02, -6.9362e-02],\n",
       "                        [-4.9617e-02, -9.4899e-03, -6.9602e-02]]],\n",
       "              \n",
       "              \n",
       "                      ...,\n",
       "              \n",
       "              \n",
       "                      [[[ 1.6137e-02, -1.1532e-01, -1.2851e-01],\n",
       "                        [ 5.1506e-03, -4.1193e-02, -2.3353e-02],\n",
       "                        [-3.5320e-02, -2.1081e-02, -3.2646e-02]],\n",
       "              \n",
       "                       [[-3.3638e-01, -4.8266e-02,  1.6456e-01],\n",
       "                        [-3.4675e-01, -7.8286e-03, -3.8690e-02],\n",
       "                        [-2.7994e-01,  2.5602e-01,  1.6737e-01]],\n",
       "              \n",
       "                       [[ 2.8185e-02, -1.2019e-02, -7.3899e-03],\n",
       "                        [-1.7676e-02,  5.3469e-02,  1.9043e-02],\n",
       "                        [-2.1457e-02,  1.8138e-02, -1.3189e-02]],\n",
       "              \n",
       "                       ...,\n",
       "              \n",
       "                       [[-4.0538e-03,  6.0104e-02, -1.2738e-01],\n",
       "                        [ 1.3164e-01,  5.9885e-02, -3.9479e-02],\n",
       "                        [-8.7372e-02,  3.9633e-02,  6.9454e-02]],\n",
       "              \n",
       "                       [[-5.4417e-02, -4.3101e-02, -2.8639e-01],\n",
       "                        [-9.4456e-02, -8.1664e-02, -7.2438e-02],\n",
       "                        [-1.8495e-01,  5.7266e-03,  2.6057e-02]],\n",
       "              \n",
       "                       [[ 2.8950e-02, -7.5964e-02, -5.1714e-02],\n",
       "                        [ 1.7672e-02, -1.2135e-02,  1.0300e-01],\n",
       "                        [ 3.1346e-02, -1.8064e-03, -9.8088e-02]]],\n",
       "              \n",
       "              \n",
       "                      [[[ 5.8055e-02, -5.2890e-04, -2.8242e-02],\n",
       "                        [ 9.8865e-03, -3.5728e-02, -1.3672e-01],\n",
       "                        [ 9.7390e-02, -3.6441e-02, -1.8334e-01]],\n",
       "              \n",
       "                       [[-3.4570e-01,  4.7942e-02,  1.6777e-01],\n",
       "                        [-2.2570e-01,  2.2332e-01, -1.0570e-01],\n",
       "                        [-1.9600e-01,  6.7212e-04, -1.5158e-01]],\n",
       "              \n",
       "                       [[-3.6990e-02, -1.9851e-02, -9.0128e-03],\n",
       "                        [-3.2395e-02,  1.2147e-04, -2.9215e-02],\n",
       "                        [ 3.2687e-02,  5.3157e-03,  1.4141e-02]],\n",
       "              \n",
       "                       ...,\n",
       "              \n",
       "                       [[ 4.7539e-02, -9.7964e-02,  3.8006e-02],\n",
       "                        [ 2.5913e-02, -7.1881e-02,  1.8206e-02],\n",
       "                        [ 3.1606e-02, -2.8963e-02,  1.2223e-01]],\n",
       "              \n",
       "                       [[-3.3131e-02, -2.2663e-01, -2.1061e-02],\n",
       "                        [-9.7393e-02, -1.3031e-01, -5.7036e-03],\n",
       "                        [ 8.0145e-03, -6.6028e-02, -1.1983e-01]],\n",
       "              \n",
       "                       [[ 9.1593e-02, -1.4126e-01, -9.6985e-02],\n",
       "                        [ 2.0302e-01,  6.0259e-02, -1.2752e-01],\n",
       "                        [ 1.1701e-01,  6.7467e-02, -1.0579e-01]]],\n",
       "              \n",
       "              \n",
       "                      [[[-7.5681e-03, -8.6515e-02, -2.8059e-02],\n",
       "                        [ 1.1382e-02, -8.0762e-02, -3.5068e-02],\n",
       "                        [-7.4320e-02,  2.1505e-02, -5.0482e-02]],\n",
       "              \n",
       "                       [[ 1.0375e-01, -9.9710e-02,  1.5919e-01],\n",
       "                        [-6.3668e-02, -2.8916e-02, -1.0094e-01],\n",
       "                        [-6.8693e-02,  1.8213e-01, -1.5449e-02]],\n",
       "              \n",
       "                       [[-3.4113e-02, -4.6693e-02, -3.4554e-02],\n",
       "                        [-3.0523e-02,  3.0063e-02,  1.9658e-02],\n",
       "                        [-3.4137e-02, -2.4175e-02,  4.0150e-02]],\n",
       "              \n",
       "                       ...,\n",
       "              \n",
       "                       [[ 9.0654e-03, -2.3344e-02,  6.1083e-02],\n",
       "                        [ 2.8208e-02, -2.3258e-02,  8.1859e-02],\n",
       "                        [-1.5450e-02, -3.8892e-02, -7.9616e-03]],\n",
       "              \n",
       "                       [[ 5.5479e-02, -3.4328e-02,  2.3443e-02],\n",
       "                        [-2.5060e-02, -2.9942e-03, -2.3131e-02],\n",
       "                        [-5.3849e-02, -5.9762e-02,  9.9573e-03]],\n",
       "              \n",
       "                       [[ 6.0485e-02,  5.0735e-03, -6.6087e-02],\n",
       "                        [-2.6062e-02, -5.3050e-02,  1.0003e-01],\n",
       "                        [ 5.1638e-02, -8.1155e-02,  8.8470e-02]]]])),\n",
       "             ('conv_block_2.2.bias',\n",
       "              tensor([ 0.0392, -0.0343, -0.0662,  0.0192, -0.0048,  0.3673,  0.0067,  0.0794,\n",
       "                       0.0157, -0.0925,  0.1367,  0.0837, -0.0218, -0.3765, -0.0418,  0.3131,\n",
       "                      -0.0892, -0.1230, -0.0478,  0.1043,  0.3669, -0.2371, -0.1656, -0.1116,\n",
       "                       0.0531, -0.1325,  0.4293,  0.0800, -0.1049,  0.1587, -0.1139, -0.0057,\n",
       "                       0.2031,  0.2170, -0.1123, -0.2081, -0.0420,  0.1750,  0.4397, -0.0087])),\n",
       "             ('classifier.1.weight',\n",
       "              tensor([[ 0.0012, -0.0560,  0.1661,  ...,  0.0267, -0.0144,  0.0102],\n",
       "                      [ 0.0633, -0.0876, -0.0799,  ...,  0.0053, -0.0099,  0.0205],\n",
       "                      [-0.0092, -0.0090, -0.0667,  ...,  0.0295, -0.1371,  0.0188],\n",
       "                      ...,\n",
       "                      [-0.0325, -0.0020,  0.0468,  ...,  0.0172,  0.0061, -0.0268],\n",
       "                      [ 0.0559,  0.1896, -0.1675,  ..., -0.0123, -0.0256,  0.0410],\n",
       "                      [ 0.0792,  0.0944,  0.0431,  ...,  0.0473,  0.0527,  0.0024]])),\n",
       "             ('classifier.1.bias',\n",
       "              tensor([ 0.1633, -0.1163,  0.2613,  0.1108, -0.4139, -0.1869,  0.0743,  0.1487,\n",
       "                       0.0488, -0.1928]))])"
      ]
     },
     "execution_count": 175,
     "metadata": {},
     "output_type": "execute_result"
    }
   ],
   "source": [
    "MODEL_PATH = 'models/Pytorch-Computer-Vision.pt'\n",
    "# Hidden units is 40 because I train the original model with 40 hidden units\n",
    "model_1 = FashionMNISTModel(input_shape=1,output_shape=len(fashionMNSIT_test_data.classes),hidden_units=40)\n",
    "model_1.load_state_dict(torch.load(MODEL_PATH,map_location=torch.device('cpu'),weights_only=False))\n",
    "model_1.state_dict()"
   ]
  },
  {
   "cell_type": "code",
   "execution_count": 176,
   "metadata": {},
   "outputs": [],
   "source": [
    "test_images, test_labels = fashionMNSIT_test_data.data,fashionMNSIT_test_data.classes"
   ]
  },
  {
   "cell_type": "code",
   "execution_count": 182,
   "metadata": {},
   "outputs": [],
   "source": [
    "fashionMNSIT_test_dataloader = DataLoader(dataset=fashionMNSIT_test_data) "
   ]
  },
  {
   "cell_type": "code",
   "execution_count": 198,
   "metadata": {},
   "outputs": [
    {
     "name": "stderr",
     "output_type": "stream",
     "text": [
      "Making prediction: 100%|██████████| 10000/10000 [00:36<00:00, 274.23it/s]\n"
     ]
    }
   ],
   "source": [
    "y_whole_pred = []\n",
    "model_1.eval()\n",
    "with torch.inference_mode():\n",
    "    for X,y in tqdm(fashionMNSIT_test_dataloader,desc=\"Making prediction\"):\n",
    "        # Send the data and target to target device\n",
    "        y_logit = model_1(X)\n",
    "        y_pred = torch.softmax(y_logit,dim=1).argmax(dim=1)\n",
    "        # Put prediction to CPU for evaluations\n",
    "        y_whole_pred.append(y_pred)\n",
    "\n",
    "y_whole_pred = torch.cat(y_whole_pred)"
   ]
  },
  {
   "cell_type": "code",
   "execution_count": 199,
   "metadata": {},
   "outputs": [
    {
     "data": {
      "text/plain": [
       "928"
      ]
     },
     "execution_count": 199,
     "metadata": {},
     "output_type": "execute_result"
    }
   ],
   "source": [
    "wrong_pred_indexes = np.where(test_preds != fashionMNSIT_test_data.targets)[0]\n",
    "len(wrong_pred_indexes)"
   ]
  },
  {
   "cell_type": "code",
   "execution_count": 221,
   "metadata": {},
   "outputs": [
    {
     "data": {
      "image/png": "[encoded data removed]",
      "text/plain": [
       "<Figure size 900x900 with 9 Axes>"
      ]
     },
     "metadata": {},
     "output_type": "display_data"
    }
   ],
   "source": [
    "random_index = random.sample(list(wrong_pred_indexes),k=9)\n",
    "\n",
    "plt.figure(figsize=(9,9))\n",
    "for i,index in enumerate(random_index):\n",
    "    true_label = fashionMNSIT_test_data.classes[fashionMNSIT_test_data[index][1]]\n",
    "    pred_label = fashionMNSIT_test_data.classes[test_preds[index]]\n",
    "    plt.subplot(3,3,i+1)\n",
    "    plt.imshow(fashionMNSIT_test_data[index][0].squeeze(), cmap=\"gray\")\n",
    "    plt.title(f\"True: {true_label}, Pred: {pred_label}\")\n",
    "    plt.axis(False)\n",
    "\n"
   ]
  },
  {
   "cell_type": "markdown",
   "metadata": {},
   "source": [
    "While the model's performance can slightly improve, some of the data labels are very similar to each other, making it difficult to distinguish between them."
   ]
  }
 ],
 "metadata": {
  "kernelspec": {
   "display_name": "env",
   "language": "python",
   "name": "python3"
  },
  "language_info": {
   "codemirror_mode": {
    "name": "ipython",
    "version": 3
   },
   "file_extension": ".py",
   "mimetype": "text/x-python",
   "name": "python",
   "nbconvert_exporter": "python",
   "pygments_lexer": "ipython3",
   "version": "3.12.7"
  }
 },
 "nbformat": 4,
 "nbformat_minor": 2
}
